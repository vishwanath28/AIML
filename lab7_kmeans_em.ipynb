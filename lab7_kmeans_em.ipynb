{
  "nbformat": 4,
  "nbformat_minor": 0,
  "metadata": {
    "colab": {
      "provenance": []
    },
    "kernelspec": {
      "name": "python3",
      "display_name": "Python 3"
    },
    "language_info": {
      "name": "python"
    }
  },
  "cells": [
    {
      "cell_type": "code",
      "execution_count": null,
      "metadata": {
        "id": "6QtR0OQvc0cV"
      },
      "outputs": [],
      "source": [
        "#LAB7 KMEANS VS EM\n",
        "import matplotlib.pyplot as plt\n",
        "from sklearn import datasets\n",
        "from sklearn.cluster import KMeans\n",
        "from sklearn.mixture import GaussianMixture \n",
        "import sklearn.metrics as sm\n",
        "import pandas as pd\n",
        "import numpy as np\n",
        "\n",
        "iris = datasets.load_iris()\n",
        "\n",
        "X = pd.DataFrame(iris.data)\n",
        "X.columns = ['Sepal_Length','Sepal_Width','Petal_Length','Petal_Width']\n",
        "Y = pd.DataFrame(iris.target)\n",
        "Y.columns = ['Targets']\n",
        "\n",
        "print(X)\n",
        "print(Y)\n",
        "colormap = np.array(['red', 'lime', 'black'])\n",
        "\n",
        "plt.subplot(1,2,1)\n",
        "plt.scatter(X.Petal_Length, X.Petal_Width, c=colormap[Y.Targets], s=40)\n",
        "plt.title('Real Clustering')\n",
        "plt.show()\n",
        "\n",
        "model1 = KMeans(n_clusters=3)\n",
        "model1.fit(X)\n",
        "\n",
        "plt.subplot(1,2,2)\n",
        "plt.scatter(X.Petal_Length, X.Petal_Width, c=colormap[model1.labels_], s=40)\n",
        "plt.title('K Mean Clustering')\n",
        "plt.show()\n",
        "\n",
        "model2 = GaussianMixture(n_components=3) \n",
        "model2.fit(X)\n",
        "\n",
        "plt.subplot(1,2,1)\n",
        "plt.scatter(X.Petal_Length, X.Petal_Width, c=colormap[model2.predict(X)], s=40)\n",
        "plt.title('EM Clustering')\n",
        "plt.show()\n",
        "\n",
        "print(\"Actual Target is:\\n\", iris.target)\n",
        "print(\"K Means:\\n\",model1.labels_)\n",
        "print(\"EM:\\n\",model2.predict(X))\n",
        "print(\"Accuracy of KMeans is \",sm.accuracy_score(Y,model1.labels_))\n",
        "print(\"Accuracy of EM is \",sm.accuracy_score(Y, model2.predict(X)))\n"
      ]
    }
  ]
}