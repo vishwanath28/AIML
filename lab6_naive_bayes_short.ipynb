{
  "nbformat": 4,
  "nbformat_minor": 0,
  "metadata": {
    "colab": {
      "provenance": []
    },
    "kernelspec": {
      "name": "python3",
      "display_name": "Python 3"
    },
    "language_info": {
      "name": "python"
    }
  },
  "cells": [
    {
      "cell_type": "code",
      "execution_count": 40,
      "metadata": {
        "colab": {
          "base_uri": "https://localhost:8080/"
        },
        "id": "iSdNoX4r4mBP",
        "outputId": "bc76cc40-0f10-4b3c-b3ff-b081ba3642ab"
      },
      "outputs": [
        {
          "output_type": "stream",
          "name": "stdout",
          "text": [
            "     Outlook Temperature Humidity    Wind PlayTennis\n",
            "0      Sunny         Hot     High    Weak         No\n",
            "1      Sunny         Hot     High  Strong         No\n",
            "2   Overcast         Hot     High    Weak        Yes\n",
            "3       Rain        Mild     High    Weak        Yes\n",
            "4       Rain        Cool   Normal    Weak        Yes\n",
            "5       Rain        Cool   Normal  Strong         No\n",
            "6   Overcast        Cool   Normal  Strong        Yes\n",
            "7      Sunny        Mild     High    Weak         No\n",
            "8      Sunny        Cool   Normal    Weak        Yes\n",
            "9       Rain        Mild   Normal    Weak        Yes\n",
            "10     Sunny        Mild   Normal  Strong        Yes\n",
            "11  Overcast        Mild     High  Strong        Yes\n",
            "12  Overcast         Hot   Normal    Weak        Yes\n",
            "13      Rain        Mild     High  Strong         No\n",
            "    Outlook  Temperature  Humidity  Wind  PlayTennis\n",
            "0         0            0         0     0           0\n",
            "1         0            0         0     1           0\n",
            "2         1            0         0     0           1\n",
            "3         2            1         0     0           1\n",
            "4         2            2         1     0           1\n",
            "5         2            2         1     1           0\n",
            "6         1            2         1     1           1\n",
            "7         0            1         0     0           0\n",
            "8         0            2         1     0           1\n",
            "9         2            1         1     0           1\n",
            "10        0            1         1     1           1\n",
            "11        1            1         0     1           1\n",
            "12        1            0         1     0           1\n",
            "13        2            1         0     1           0\n",
            "ACTUAL:\n",
            " 12    1\n",
            "5     0\n",
            "6     1\n",
            "2     1\n",
            "0     0\n",
            "8     1\n",
            "4     1\n",
            "Name: PlayTennis, dtype: int64\n",
            "PREDICTED:\n",
            " [1 1 1 0 0 1 1]\n",
            "Accuracy is: 0.7142857142857143\n"
          ]
        }
      ],
      "source": [
        "import warnings\n",
        "warnings.filterwarnings(\"ignore\")\n",
        "import pandas as pd\n",
        "from sklearn import tree\n",
        "from sklearn.naive_bayes import GaussianNB\n",
        "from sklearn.model_selection import train_test_split\n",
        "from sklearn.metrics import accuracy_score\n",
        "\n",
        "df = pd.read_csv('traintennis.csv')\n",
        "print(df)\n",
        "\n",
        "for colname in df.select_dtypes(\"object\"):\n",
        "    df[colname], _ = df[colname].factorize()\n",
        "\n",
        "print(df)\n",
        "X=df[[\"Outlook\",\"Temperature\",\"Humidity\",\"Wind\"]]\n",
        "Y=df[\"PlayTennis\"]\n",
        "\n",
        "\n",
        "X_train, X_test, y_train, y_test = train_test_split(X,Y, test_size = 0.50)\n",
        "\n",
        "classifier = GaussianNB()\n",
        "classifier.fit(X_train, y_train)\n",
        "\n",
        "print(\"ACTUAL:\\n\",y_test)\n",
        "print(\"PREDICTED:\\n\",classifier.predict(X_test))\n",
        "\n",
        "\n",
        "print(\"Accuracy is:\", accuracy_score(classifier.predict(X_test), y_test))"
      ]
    }
  ]
}