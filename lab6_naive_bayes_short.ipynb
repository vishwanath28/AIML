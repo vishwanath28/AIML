{
  "nbformat": 4,
  "nbformat_minor": 0,
  "metadata": {
    "colab": {
      "provenance": []
    },
    "kernelspec": {
      "name": "python3",
      "display_name": "Python 3"
    },
    "language_info": {
      "name": "python"
    }
  },
  "cells": [
    {
      "cell_type": "code",
      "source": [
        "import pandas as pd\n",
        "from sklearn.naive_bayes import GaussianNB\n",
        "from sklearn.model_selection import train_test_split\n",
        "from sklearn.metrics import accuracy_score\n",
        "\n",
        "# Load Data from CSV\n",
        "data = pd.read_csv('diabetes2.csv')\n",
        "print(\"The first 5 Values of data is :\\n\", data.head())\n",
        "\n",
        "# obtain train data and train output\n",
        "X = data.iloc[:, :-1]\n",
        "y = data.iloc[:, -1]\n",
        "\n",
        "X_train, X_test, y_train, y_test = train_test_split(X,y, test_size = 0.20)\n",
        "\n",
        "classifier = GaussianNB()\n",
        "classifier.fit(X_train, y_train)\n",
        "pred = classifier.predict(X_test)\n",
        "\n",
        "print(\"actual values\\n\")\n",
        "print(y_test.values)\n",
        "print(\"predicted values\\n\")\n",
        "print(pred)\n",
        "\n",
        "print(\"Accuracy is:\", accuracy_score(pred, y_test))"
      ],
      "metadata": {
        "colab": {
          "base_uri": "https://localhost:8080/"
        },
        "id": "6TaGtcSWKzFF",
        "outputId": "901c870e-ef15-472b-fdeb-003982de90fa"
      },
      "execution_count": 8,
      "outputs": [
        {
          "output_type": "stream",
          "name": "stdout",
          "text": [
            "The first 5 Values of data is :\n",
            "    6  148  72  35    0  33.6  0.627  50  1\n",
            "0  1   85  66  29    0  26.6  0.351  31  0\n",
            "1  8  183  64   0    0  23.3  0.672  32  1\n",
            "2  1   89  66  23   94  28.1  0.167  21  0\n",
            "3  0  137  40  35  168  43.1  2.288  33  1\n",
            "4  5  116  74   0    0  25.6  0.201  30  0\n",
            "actual values\n",
            "\n",
            "[0 1 1 0 0 0 1 1 0 0 1 0 1 0 1 0 0 1 0 0 0 0 0 0 0 0 1 0 0 0 0 0 1 0 0 0 0\n",
            " 0 0 0 0 0 0 0 0 0 0 1 0 0 0 0 0 1 0 1 1 1 1 0 0 1 1 0 1 0 0 0 0 0 0 0 0 0\n",
            " 0 1 0 0 0 1 0 1 0 0 0 0 0 1 0 1 1 0 0 0 1 0 0 1 0 0 1 0 1 1 0 0 0 0 0 0 0\n",
            " 0 0 1 1 0 1 0 1 1 0 1 0 1 0 0 0 1 0 0 1 0 1 1 0 1 0 0 0 1 0 0 0 0 1 0 0 1\n",
            " 1 0 0 0 0 0]\n",
            "predicted values\n",
            "\n",
            "[0 0 0 0 0 0 1 1 0 0 0 0 1 1 1 0 0 1 1 0 0 0 0 0 1 0 0 0 0 0 0 0 0 0 0 0 1\n",
            " 0 0 0 1 0 0 0 0 0 0 0 0 0 0 0 0 1 0 1 1 0 1 1 0 1 1 0 0 0 0 0 0 0 1 0 0 1\n",
            " 0 1 0 1 0 1 0 1 0 0 0 0 0 1 0 0 1 0 0 0 1 0 0 1 0 0 1 0 1 0 0 0 0 0 0 0 1\n",
            " 0 0 0 1 0 1 0 1 0 0 0 0 1 0 0 0 0 0 0 1 0 0 1 0 0 0 0 0 1 0 0 0 0 0 0 1 0\n",
            " 0 0 0 0 0 0]\n",
            "Accuracy is: 0.8051948051948052\n"
          ]
        }
      ]
    }
  ]
}