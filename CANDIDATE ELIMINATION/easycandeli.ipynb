{
 "cells": [
  {
   "cell_type": "code",
   "execution_count": 14,
   "metadata": {},
   "outputs": [],
   "source": [
    "#CONTENTS OF trainingexamples.csv\n",
    "\n",
    "#Rainy,Cold,High,Strong,Warm,Change,N\n",
    "#Sunny,Warm,Normal,Strong,Warm,Same,Y\n",
    "#Sunny,Warm,High,Strong,Warm,Same,Y\n",
    "#Sunny,Warm,High,Strong,Cool,Change,Y"
   ]
  },
  {
   "cell_type": "code",
   "execution_count": 15,
   "metadata": {},
   "outputs": [],
   "source": [
    "import random  #not actually needed\n",
    "import csv as csv    #to open and read csv file"
   ]
  },
  {
   "cell_type": "code",
   "execution_count": 16,
   "metadata": {},
   "outputs": [],
   "source": [
    "# FIRST OPEN THE TRAINING DATA SET\n",
    "# STORE IT AS \"LIST OF TUPLES\"\n",
    "# EACH TUPLE IS EACH ROW IN DATA SET\n",
    "with open(\"trainingexamples.csv\") as csvfile:\n",
    "    examples=[tuple(line) for line in csv.reader(csvfile)]\n",
    "    #print(examples)"
   ]
  },
  {
   "cell_type": "code",
   "execution_count": 17,
   "metadata": {},
   "outputs": [],
   "source": [
    "# THIS FUNCTION RETURNS A LIST CONTAINING 7(TOT NO.OF COLS) SETS\n",
    "# EACH SET CONTAINING POSSIBLE VALUES OF EACH COLUMN SORTED\n",
    "# THE POSSIBLE VALUES ARE SORTED IN ALPHABETICAL ORDER\n",
    "# CALLED FROM E2\n",
    "def get_domains(examples):\n",
    "    d=[set() for i in examples[0]]\n",
    "    #print(d)\n",
    "    for x in examples: # ACCESS EVERY ROW\n",
    "        for i,xi in enumerate(x): #i is iterator created by enumerate funcn.\n",
    "            d[i].add(xi)\n",
    "    return [list(sorted(x)) for x in d]\n",
    "\n",
    "#get_domains(examples)"
   ]
  },
  {
   "cell_type": "code",
   "execution_count": 18,
   "metadata": {},
   "outputs": [],
   "source": [
    "#E3 CHECKING IF h1 IS CONSISTENT WITH h2\n",
    "def consistent(h1,h2):\n",
    "    mgp=[]  #zip function\n",
    "    for x,y in zip(h1,h2):\n",
    "        mg= x==\"?\" or(x!=\"ɸ\" and (x==y or y==\"ɸ\"))  #mg is BOOLEAN VALUE\n",
    "        mgp.append(mg)\n",
    "    return all(mgp)  #all method returns TRUE if all items in all(ITER_OBJECT) are true\n",
    "                                    #also it returns TRUE if ITER_OBJECT is empty"
   ]
  },
  {
   "cell_type": "code",
   "execution_count": 19,
   "metadata": {},
   "outputs": [],
   "source": [
    "# RETURNS CONSISTENT MINIMAL GENERALIZATION OF GIVEN HYPOTHESIS (E4)\n",
    "def min_generalizations(h,x):\n",
    "    h_new=list(h)\n",
    "    for i in range(len(h)):\n",
    "        if not consistent(h[i:i+1],x[i:i+1]):    #WE WANT BOTH PARAMETERS TO BE ITERABLES (LIST),TATS WHY h[i:i+1]\n",
    "            h_new[i]=\"?\" if h[i]!=\"ɸ\" else x[i]  # IF CONSISTENT, WE are making it x[i], otherwise \"?\"\n",
    "    return [tuple(h_new)]\n",
    "        "
   ]
  },
  {
   "cell_type": "code",
   "execution_count": 20,
   "metadata": {},
   "outputs": [],
   "source": [
    "# RETURNS CONSISTENT MINIMAL SPECIALIZATION OF GIVEN HYPOTHESIS (E4)\n",
    "def min_specializations(h,domains,x):\n",
    "    results=[]\n",
    "    for i in range(len(h)):\n",
    "        if h[i]==\"?\":\n",
    "            for val in domains[i]:\n",
    "                if x[i]!=val:  #x[i] is leading to NEGATIVE TARGET, SO WE DONT WANT val matching with it\n",
    "                    h_new=h[:i]+(val,)+h[i+1:]  #WE ARE SPECIALIZING TAT PARTICULAR ATTRIBUTE \n",
    "                    results.append(h_new)\n",
    "        elif h[i]!=\"ɸ\":\n",
    "            h_new=h[:i]+(\"ɸ\",)+h[i+1:] #IF IT IS ɸ, NOTHING TO DO, JUST COPY AS IT IS\n",
    "            results.append(h_new)\n",
    "    return results\n",
    "                "
   ]
  },
  {
   "cell_type": "code",
   "execution_count": 21,
   "metadata": {},
   "outputs": [],
   "source": [
    "# GENERALIZE THE S(SPECIFIC HYPOTHESIS) (E3)\n",
    "def generalize_S(x,G,S):\n",
    "    S_prev=list(S)\n",
    "    for s in S_prev:\n",
    "        if s not in S:\n",
    "            continue\n",
    "        if not consistent(s,x):             #IF NOT CONSISTENT, THEN REMOVE\n",
    "            S.remove(s)                     # ADD TO S, all MINIMAL GENERALIZATIONS TAT ARE CONSISTENT WITH x\n",
    "            Splus=min_generalizations(s,x)  #REMOVE OLDER HYPOTHESIS(WHICH WERE CONSISTENT BUT MORE GENERAL)\n",
    "            \n",
    "            S.update([h for h in Splus if any([consistent(g,h) for g in G])])\n",
    "            S.difference_update([h for h in S if any([consistent(h,h1) for h1 in S if h!=h1])]) #CiCn\n",
    "    return S"
   ]
  },
  {
   "cell_type": "code",
   "execution_count": 22,
   "metadata": {},
   "outputs": [],
   "source": [
    "#SPECIALIZE THE G(GENERAL HYPOTHESIS) (E3)\n",
    "def specialize_G(x,domains,G,S):\n",
    "    G_prev=list(G)\n",
    "    for g in G_prev:\n",
    "        if g not in G:\n",
    "            continue\n",
    "        if consistent(g,x): #NOW x IS LEADING TO NEGATIVE TARGET, SO IF SOME g IS CONSISTENT WITH x, remove it\n",
    "            G.remove(g)\n",
    "            Gminus=min_specializations(g,domains,x)\n",
    "            \n",
    "            G.update([h for h in Gminus if any([consistent(h,s) for s in S])])   #CiCn\n",
    "            G.difference_update([h for h in G if any([consistent(h,g1) for g1 in G if h!=g1])]) #Cicn\n",
    "    return G\n",
    "        "
   ]
  },
  {
   "cell_type": "code",
   "execution_count": 23,
   "metadata": {},
   "outputs": [],
   "source": [
    "#E2\n",
    "def candidate_elimination(examples):\n",
    "    domains=get_domains(examples)[:-1]\n",
    "    #NOW LAST COLUMN(TARGET) IS NOT IN domains\n",
    "    #INITIALZE G TO ?, S TO ɸ\n",
    "    G = set([(\"?\",)*len(domains)])\n",
    "    S = set([(\"ɸ\",)*len(domains)])\n",
    "    \n",
    "    i=0\n",
    "    print(\"\\n G[{0}]:\".format(i),G)\n",
    "    print(\"\\n S[{0}]:\".format(i),S) #PRINTING INITIAL G,S\n",
    "    \n",
    "    for xcx in examples: #EXAMINE ALL ROWS\n",
    "        i=i+1\n",
    "        #x is storing list of all values in the row\n",
    "        #cx is storing target value of the row\n",
    "        x,cx=xcx[:-1],xcx[-1]  \n",
    "        if cx==\"Y\":\n",
    "            G={g for g in G if consistent(g,x)}\n",
    "            S=generalize_S(x,G,S)\n",
    "        else:\n",
    "            S={s for s in S if not consistent(s,x)}\n",
    "            G=specialize_G(x,domains,G,S)\n",
    "        print(\"\\n G[{0}]:\".format(i),G)\n",
    "        print(\"\\n S[{0}]:\".format(i),S)\n",
    "    return   \n",
    "        \n",
    "        \n",
    "    "
   ]
  },
  {
   "cell_type": "code",
   "execution_count": 24,
   "metadata": {},
   "outputs": [
    {
     "name": "stdout",
     "output_type": "stream",
     "text": [
      "\n",
      " G[0]: {('?', '?', '?', '?', '?', '?')}\n",
      "\n",
      " S[0]: {('ɸ', 'ɸ', 'ɸ', 'ɸ', 'ɸ', 'ɸ')}\n",
      "\n",
      " G[1]: {('Sunny', '?', '?', '?', '?', '?'), ('?', '?', '?', '?', '?', 'Same'), ('?', 'Warm', '?', '?', '?', '?'), ('?', '?', 'Normal', '?', '?', '?'), ('?', '?', '?', '?', 'Cool', '?')}\n",
      "\n",
      " S[1]: {('ɸ', 'ɸ', 'ɸ', 'ɸ', 'ɸ', 'ɸ')}\n",
      "\n",
      " G[2]: {('?', 'Warm', '?', '?', '?', '?'), ('Sunny', '?', '?', '?', '?', '?'), ('?', '?', '?', '?', '?', 'Same'), ('?', '?', 'Normal', '?', '?', '?')}\n",
      "\n",
      " S[2]: {('Sunny', 'Warm', 'Normal', 'Strong', 'Warm', 'Same')}\n",
      "\n",
      " G[3]: {('?', 'Warm', '?', '?', '?', '?'), ('Sunny', '?', '?', '?', '?', '?'), ('?', '?', '?', '?', '?', 'Same')}\n",
      "\n",
      " S[3]: {('Sunny', 'Warm', '?', 'Strong', 'Warm', 'Same')}\n",
      "\n",
      " G[4]: {('?', 'Warm', '?', '?', '?', '?'), ('Sunny', '?', '?', '?', '?', '?')}\n",
      "\n",
      " S[4]: {('Sunny', 'Warm', '?', 'Strong', '?', '?')}\n"
     ]
    }
   ],
   "source": [
    "#EXECUTION STARTS E1\n",
    "candidate_elimination(examples)"
   ]
  },
  {
   "cell_type": "code",
   "execution_count": null,
   "metadata": {},
   "outputs": [],
   "source": []
  },
  {
   "cell_type": "code",
   "execution_count": null,
   "metadata": {},
   "outputs": [],
   "source": []
  },
  {
   "cell_type": "code",
   "execution_count": null,
   "metadata": {},
   "outputs": [],
   "source": []
  },
  {
   "cell_type": "code",
   "execution_count": null,
   "metadata": {},
   "outputs": [],
   "source": []
  }
 ],
 "metadata": {
  "kernelspec": {
   "display_name": "Python 3",
   "language": "python",
   "name": "python3"
  },
  "language_info": {
   "codemirror_mode": {
    "name": "ipython",
    "version": 3
   },
   "file_extension": ".py",
   "mimetype": "text/x-python",
   "name": "python",
   "nbconvert_exporter": "python",
   "pygments_lexer": "ipython3",
   "version": "3.7.3"
  }
 },
 "nbformat": 4,
 "nbformat_minor": 2
}
