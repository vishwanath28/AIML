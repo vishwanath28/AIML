{
  "nbformat": 4,
  "nbformat_minor": 0,
  "metadata": {
    "colab": {
      "provenance": []
    },
    "kernelspec": {
      "name": "python3",
      "display_name": "Python 3"
    },
    "language_info": {
      "name": "python"
    }
  },
  "cells": [
    {
      "cell_type": "code",
      "execution_count": null,
      "metadata": {
        "id": "5y12BhcScm-T"
      },
      "outputs": [],
      "source": [
        "#LAB 8-KNN\n",
        "#import the dataset and library files\n",
        "from sklearn.datasets import load_iris\n",
        "from sklearn.neighbors import KNeighborsClassifier\n",
        "import numpy as np\n",
        "from sklearn.model_selection import train_test_split\n",
        "\n",
        "iris_dataset=load_iris()\n",
        "\n",
        "#display the iris dataset\n",
        "print(\"\\n IRIS FEATURES \\ TARGET NAMES: \\n \", iris_dataset.target_names)\n",
        "for i in range(len(iris_dataset.target_names)):\n",
        "    print(\"\\n[{0}]:[{1}]\".format(i,iris_dataset.target_names[i]))\n",
        "\n",
        "print(\"\\n IRIS DATA :\\n\",iris_dataset[\"data\"])\n",
        "print(\"\\n Target :\\n\",iris_dataset[\"target\"])\n",
        "\n",
        "\n",
        "#split the data into training and testing data\n",
        "X_train, X_test, y_train, y_test = train_test_split(iris_dataset[\"data\"], iris_dataset[\"target\"], random_state=0)\n",
        "\n",
        "print(\"\\n X TRAIN \\n\", X_train)\n",
        "print(\"\\n X TEST \\n\", X_test)\n",
        "print(\"\\n Y TRAIN \\n\", y_train)\n",
        "print(\"\\n Y TEST \\n\", y_test)\n",
        "\n",
        "#train and fit the model\n",
        "kn = KNeighborsClassifier(n_neighbors=5)\n",
        "kn.fit(X_train, y_train)\n",
        "\n",
        "#predict for one example\n",
        "x_new = np.array([[5, 2.9, 1, 0.2]])\n",
        "print(\"\\n XNEW \\n\",x_new)\n",
        "prediction = kn.predict(x_new)\n",
        "print(\"\\n Predicted target value: {}\\n\".format(prediction))\n",
        "print(\"\\n Predicted feature name: {}\\n\".format(iris_dataset[\"target_names\"][prediction]))\n",
        "\n",
        "#predict for entire test dataset\n",
        "for i in range(len(X_test)):\n",
        "  x = X_test[i]\n",
        "  x_new = np.array([x])\n",
        "  prediction = kn.predict(x_new)     #predict method returns label \n",
        "  print(\"\\n Actual : {0} {1}, Predicted :{2}{3}\".format(y_test[i],iris_dataset[\"target_names\"][y_test[i]],prediction,iris_dataset[\"target_names\"][ prediction]))\n",
        "\n",
        "print(\"\\n TEST SCORE[ACCURACY]: {:.2f}\\n\".format(kn.score(X_test, y_test)))"
      ]
    }
  ]
}