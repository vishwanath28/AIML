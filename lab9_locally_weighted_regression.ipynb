{
  "nbformat": 4,
  "nbformat_minor": 0,
  "metadata": {
    "colab": {
      "provenance": []
    },
    "kernelspec": {
      "name": "python3",
      "display_name": "Python 3"
    },
    "language_info": {
      "name": "python"
    }
  },
  "cells": [
    {
      "cell_type": "code",
      "execution_count": null,
      "metadata": {
        "id": "BtC4lCB-fhCo"
      },
      "outputs": [],
      "source": [
        "#LAB9 - LOCALLY WEIGHTED REGRESSION\n",
        "import numpy as np\n",
        "import matplotlib.pyplot as plt\n",
        "\n",
        "def local_regression(x0, X, Y, tau):\n",
        "    x0 = [1, x0]   \n",
        "    X = [[1, i] for i in X]\n",
        "    X = np.asarray(X)\n",
        "    w=np.exp(np.sum((X - x0) ** 2, axis=1) / (-2 * (tau**2)))\n",
        "    xw = (X.T) * w\n",
        "    beta = (np.linalg.pinv(xw @ X)) @ (xw @ Y)   \n",
        "    return (beta @ x0)   \n",
        "\n",
        "def draw(tau):\n",
        "    prediction = [local_regression(x0, X, Y, tau) for x0 in domain]\n",
        "    plt.plot(X, Y, 'o', color='black')\n",
        "    plt.plot(domain, prediction, color='red')\n",
        "    plt.show()\n",
        "\n",
        "X = np.linspace(-3, 3, num=1000)\n",
        "domain = X\n",
        "Y = np.log(np.abs((X ** 2) - 1) + .5)\n",
        "draw(10)\n",
        "draw(0.1)\n",
        "draw(0.01)\n",
        "draw(0.001)"
      ]
    }
  ]
}