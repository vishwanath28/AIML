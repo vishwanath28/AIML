{
  "nbformat": 4,
  "nbformat_minor": 0,
  "metadata": {
    "colab": {
      "provenance": []
    },
    "kernelspec": {
      "name": "python3",
      "display_name": "Python 3"
    },
    "language_info": {
      "name": "python"
    }
  },
  "cells": [
    {
      "cell_type": "code",
      "execution_count": null,
      "metadata": {
        "id": "esPy4ra4SD8Z"
      },
      "outputs": [],
      "source": [
        "#LAB5 ANN\n",
        "import numpy as np\n",
        "X = np.array(([2, 9], [1, 5], [3, 6]), dtype=float)\n",
        "y = np.array(([92], [86], [89]), dtype=float)\n",
        "X = X/np.amax(X,axis=0)\n",
        "y = y/100\n",
        "\n",
        "#Sigmoid Function\n",
        "def sigmoid (x):\n",
        "    return 1/(1 + np.exp(-x))\n",
        "\n",
        "#Derivative of Sigmoid Function\n",
        "def derivatives_sigmoid(x):\n",
        "    return x * (1 - x)\n",
        "\n",
        "#Variable initialization\n",
        "epoch=5000 \t\n",
        "lr=0.1 \t\t\n",
        "inputlayer_neurons = 2 \t\t\n",
        "hiddenlayer_neurons = 3 \t\n",
        "output_neurons = 1 \t\t\n",
        "\n",
        "#weight and bias initialization\n",
        "wh=np.random.uniform(size=(inputlayer_neurons,hiddenlayer_neurons))  #2,3\n",
        "bh=np.random.uniform(size=(1,hiddenlayer_neurons))                   #1,3\n",
        "wout=np.random.uniform(size=(hiddenlayer_neurons,output_neurons))    #3,1\n",
        "bout=np.random.uniform(size=(1,output_neurons))                      #1,1\n",
        "\n",
        "for i in range(epoch):\n",
        "#Forward Propogation \n",
        "    hinp=np.dot(X,wh)+ bh\n",
        "    hlayer_act = sigmoid(hinp)      \n",
        "    outinp=np.dot(hlayer_act,wout)+ bout\n",
        "    output = sigmoid(outinp)\n",
        "\n",
        "    outgrad = derivatives_sigmoid(output) \n",
        "    hiddengrad = derivatives_sigmoid(hlayer_act)\n",
        "    \n",
        "    EO = y-output                   \n",
        "    d_output = EO* outgrad\n",
        "\n",
        "    EH = np.dot(d_output,wout.T)      \n",
        "    d_hiddenlayer = EH * hiddengrad\n",
        "\n",
        "    wout += np.dot(hlayer_act.T, d_output) *lr      \n",
        "    wh += np.dot(X.T,d_hiddenlayer) *lr\n",
        "\n",
        "print(\"Input: \\n\" + str(X)) \n",
        "print(\"Actual Output: \\n\" + str(y))\n",
        "print(\"Predicted Output: \\n\" ,output)"
      ]
    }
  ]
}